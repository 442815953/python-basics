{
 "cells": [
  {
   "cell_type": "markdown",
   "id": "f93164d0",
   "metadata": {},
   "source": [
    "# Strings"
   ]
  },
  {
   "cell_type": "code",
   "execution_count": 4,
   "id": "abe92443",
   "metadata": {},
   "outputs": [
    {
     "data": {
      "text/plain": [
       "'Michael jackson'"
      ]
     },
     "execution_count": 4,
     "metadata": {},
     "output_type": "execute_result"
    }
   ],
   "source": [
    "# 2 quotation marks\n",
    "\"Michael jackson\""
   ]
  },
  {
   "cell_type": "code",
   "execution_count": 5,
   "id": "8e56ecac",
   "metadata": {},
   "outputs": [
    {
     "data": {
      "text/plain": [
       "'Michael jackson'"
      ]
     },
     "execution_count": 5,
     "metadata": {},
     "output_type": "execute_result"
    }
   ],
   "source": [
    "#single quotation marks\n",
    "'Michael jackson'"
   ]
  },
  {
   "cell_type": "code",
   "execution_count": 8,
   "id": "85eb0685",
   "metadata": {},
   "outputs": [
    {
     "name": "stdout",
     "output_type": "stream",
     "text": [
      "Hello!\n"
     ]
    }
   ],
   "source": [
    "print (\"Hello!\")"
   ]
  },
  {
   "cell_type": "code",
   "execution_count": 6,
   "id": "c46d239e",
   "metadata": {},
   "outputs": [
    {
     "data": {
      "text/plain": [
       "'Ahmed Ali'"
      ]
     },
     "execution_count": 6,
     "metadata": {},
     "output_type": "execute_result"
    }
   ],
   "source": [
    "name= \"Ahmed Ali\"\n",
    "name"
   ]
  },
  {
   "cell_type": "markdown",
   "id": "32d44395",
   "metadata": {},
   "source": [
    "Indexing"
   ]
  },
  {
   "cell_type": "code",
   "execution_count": 9,
   "id": "f1b87e08",
   "metadata": {},
   "outputs": [
    {
     "name": "stdout",
     "output_type": "stream",
     "text": [
      "h\n"
     ]
    }
   ],
   "source": [
    "print (name[1])"
   ]
  },
  {
   "cell_type": "code",
   "execution_count": 10,
   "id": "a821194e",
   "metadata": {},
   "outputs": [
    {
     "name": "stdout",
     "output_type": "stream",
     "text": [
      " \n"
     ]
    }
   ],
   "source": [
    "print(name[5])"
   ]
  },
  {
   "cell_type": "markdown",
   "id": "d17b3eb3",
   "metadata": {},
   "source": [
    "Negative Indexing"
   ]
  },
  {
   "cell_type": "code",
   "execution_count": 11,
   "id": "34bf69e0",
   "metadata": {},
   "outputs": [
    {
     "name": "stdout",
     "output_type": "stream",
     "text": [
      "l\n"
     ]
    }
   ],
   "source": [
    "print(name[-2])"
   ]
  },
  {
   "cell_type": "markdown",
   "id": "7220c3a7",
   "metadata": {},
   "source": [
    "Slicing"
   ]
  },
  {
   "cell_type": "code",
   "execution_count": 12,
   "id": "5edc301b",
   "metadata": {},
   "outputs": [
    {
     "data": {
      "text/plain": [
       "'med '"
      ]
     },
     "execution_count": 12,
     "metadata": {},
     "output_type": "execute_result"
    }
   ],
   "source": [
    "name[2:6]"
   ]
  },
  {
   "cell_type": "markdown",
   "id": "0419300d",
   "metadata": {},
   "source": [
    "Stride"
   ]
  },
  {
   "cell_type": "code",
   "execution_count": 13,
   "id": "3c4eeecf",
   "metadata": {},
   "outputs": [
    {
     "data": {
      "text/plain": [
       "'AeA'"
      ]
     },
     "execution_count": 13,
     "metadata": {},
     "output_type": "execute_result"
    }
   ],
   "source": [
    "name[::3]"
   ]
  },
  {
   "cell_type": "code",
   "execution_count": 14,
   "id": "4bdcb489",
   "metadata": {},
   "outputs": [
    {
     "data": {
      "text/plain": [
       "'A'"
      ]
     },
     "execution_count": 14,
     "metadata": {},
     "output_type": "execute_result"
    }
   ],
   "source": [
    "name[0:2:4]"
   ]
  },
  {
   "cell_type": "markdown",
   "id": "33dccf06",
   "metadata": {},
   "source": [
    "Concatenate Strings"
   ]
  },
  {
   "cell_type": "code",
   "execution_count": 33,
   "id": "b78230d1",
   "metadata": {},
   "outputs": [
    {
     "data": {
      "text/plain": [
       "'Nada is the best'"
      ]
     },
     "execution_count": 33,
     "metadata": {},
     "output_type": "execute_result"
    }
   ],
   "source": [
    "name = \"Nada\" \n",
    "statement = name + \" is the best\"\n",
    "statement"
   ]
  },
  {
   "cell_type": "code",
   "execution_count": 34,
   "id": "7abd4c09",
   "metadata": {},
   "outputs": [
    {
     "data": {
      "text/plain": [
       "'Nada Nada Nada '"
      ]
     },
     "execution_count": 34,
     "metadata": {},
     "output_type": "execute_result"
    }
   ],
   "source": [
    "3* \"Nada \""
   ]
  },
  {
   "cell_type": "markdown",
   "id": "ede4e923",
   "metadata": {},
   "source": [
    "Escape Sequences\n"
   ]
  },
  {
   "cell_type": "code",
   "execution_count": 28,
   "id": "7840a617",
   "metadata": {},
   "outputs": [
    {
     "name": "stdout",
     "output_type": "stream",
     "text": [
      " Nada \n",
      " is the best\n"
     ]
    }
   ],
   "source": [
    "print(\" Nada \\n is the best\" )"
   ]
  },
  {
   "cell_type": "code",
   "execution_count": 30,
   "id": "e219c060",
   "metadata": {},
   "outputs": [
    {
     "name": "stdout",
     "output_type": "stream",
     "text": [
      " Nada \t is the best\n"
     ]
    }
   ],
   "source": [
    "print(\" Nada \\t is the best\" )"
   ]
  },
  {
   "cell_type": "code",
   "execution_count": 29,
   "id": "ab1128ac",
   "metadata": {},
   "outputs": [
    {
     "name": "stdout",
     "output_type": "stream",
     "text": [
      " Nada \\ is the best\n"
     ]
    }
   ],
   "source": [
    "print(\" Nada \\\\ is the best\" )"
   ]
  },
  {
   "cell_type": "code",
   "execution_count": 31,
   "id": "e8752966",
   "metadata": {},
   "outputs": [
    {
     "name": "stdout",
     "output_type": "stream",
     "text": [
      " Nada \\ is the best\n"
     ]
    }
   ],
   "source": [
    "print(r\" Nada \\ is the best\" )"
   ]
  },
  {
   "cell_type": "markdown",
   "id": "cd2e4ee5",
   "metadata": {},
   "source": [
    "String Operations\n"
   ]
  },
  {
   "cell_type": "code",
   "execution_count": 27,
   "id": "57977231",
   "metadata": {},
   "outputs": [
    {
     "name": "stdout",
     "output_type": "stream",
     "text": [
      "before upper: you are a good person\n",
      "After upper: YOU ARE A GOOD PERSON\n"
     ]
    }
   ],
   "source": [
    "a = \"you are a good person\"\n",
    "print(\"before upper:\", a)\n",
    "b = a.upper()\n",
    "print(\"After upper:\", b)"
   ]
  },
  {
   "cell_type": "code",
   "execution_count": 88,
   "id": "5614ca04",
   "metadata": {},
   "outputs": [
    {
     "data": {
      "text/plain": [
       "'Rasha is the best'"
      ]
     },
     "execution_count": 88,
     "metadata": {},
     "output_type": "execute_result"
    }
   ],
   "source": [
    "a = \"Nada is the best\"\n",
    "b = a.replace('Nada', 'Rasha')\n",
    "b"
   ]
  },
  {
   "cell_type": "code",
   "execution_count": 89,
   "id": "b0166752",
   "metadata": {},
   "outputs": [
    {
     "data": {
      "text/plain": [
       "11"
      ]
     },
     "execution_count": 89,
     "metadata": {},
     "output_type": "execute_result"
    }
   ],
   "source": [
    "name = \"Mohammed Faisal\"\n",
    "name.find('isa')"
   ]
  },
  {
   "cell_type": "code",
   "execution_count": 90,
   "id": "7452912a",
   "metadata": {},
   "outputs": [
    {
     "data": {
      "text/plain": [
       "9"
      ]
     },
     "execution_count": 90,
     "metadata": {},
     "output_type": "execute_result"
    }
   ],
   "source": [
    "name.find('Faisal')"
   ]
  },
  {
   "cell_type": "code",
   "execution_count": 91,
   "id": "aefb0e57",
   "metadata": {},
   "outputs": [
    {
     "data": {
      "text/plain": [
       "-1"
      ]
     },
     "execution_count": 91,
     "metadata": {},
     "output_type": "execute_result"
    }
   ],
   "source": [
    "name.find('Ali')"
   ]
  },
  {
   "cell_type": "markdown",
   "id": "6f8ef1a6",
   "metadata": {},
   "source": [
    "# Lists"
   ]
  },
  {
   "cell_type": "markdown",
   "id": "23dd98d9",
   "metadata": {},
   "source": [
    "Indexing"
   ]
  },
  {
   "cell_type": "code",
   "execution_count": 92,
   "id": "35a3bc84",
   "metadata": {},
   "outputs": [
    {
     "data": {
      "text/plain": [
       "['Nada', 20, '15-12-2002']"
      ]
     },
     "execution_count": 92,
     "metadata": {},
     "output_type": "execute_result"
    }
   ],
   "source": [
    "L = [\"Nada\", 20 ,\"15-12-2002\"]\n",
    "L"
   ]
  },
  {
   "cell_type": "code",
   "execution_count": 93,
   "id": "f608be06",
   "metadata": {},
   "outputs": [
    {
     "name": "stdout",
     "output_type": "stream",
     "text": [
      "the same element using negative and positive indexing:\n",
      " Postive: Nada \n",
      " Negative: Nada\n"
     ]
    }
   ],
   "source": [
    "print('the same element using negative and positive indexing:\\n Postive:',L[0],'\\n Negative:' , L[-3] )"
   ]
  },
  {
   "cell_type": "markdown",
   "id": "259399e6",
   "metadata": {},
   "source": [
    "List slicing"
   ]
  },
  {
   "cell_type": "code",
   "execution_count": 52,
   "id": "83ccea48",
   "metadata": {},
   "outputs": [
    {
     "data": {
      "text/plain": [
       "['Nada', 20]"
      ]
     },
     "execution_count": 52,
     "metadata": {},
     "output_type": "execute_result"
    }
   ],
   "source": [
    "L[0:2]"
   ]
  },
  {
   "cell_type": "code",
   "execution_count": 59,
   "id": "65925684",
   "metadata": {},
   "outputs": [
    {
     "data": {
      "text/plain": [
       "['Nada', 20, '15-12-2002', 'IS', 'KKU']"
      ]
     },
     "execution_count": 59,
     "metadata": {},
     "output_type": "execute_result"
    }
   ],
   "source": [
    "L = [\"Nada\", 20 ,\"15-12-2002\"]\n",
    "L.extend(['IS' , 'KKU'])\n",
    "L"
   ]
  },
  {
   "cell_type": "code",
   "execution_count": 64,
   "id": "1b857c88",
   "metadata": {},
   "outputs": [
    {
     "name": "stdout",
     "output_type": "stream",
     "text": [
      "Before change: ['Nada', 20, '15-12-2002']\n",
      "After change: ['Ali', 20, '15-12-2002']\n"
     ]
    }
   ],
   "source": [
    "L = [\"Nada\", 20 ,\"15-12-2002\"]\n",
    "print('Before change:', L)\n",
    "L[0] = 'Ali'\n",
    "print('After change:', L)"
   ]
  },
  {
   "cell_type": "code",
   "execution_count": 74,
   "id": "14be7e63",
   "metadata": {},
   "outputs": [
    {
     "name": "stdout",
     "output_type": "stream",
     "text": [
      "Before change: ['Nada', 20, '15-12-2002']\n",
      "After change: ['Nada', 20]\n"
     ]
    }
   ],
   "source": [
    "# Delete the element based on the index\n",
    "L = [\"Nada\", 20 ,\"15-12-2002\"]\n",
    "print('Before change:', L)\n",
    "del(L[2])\n",
    "print('After change:', L)"
   ]
  },
  {
   "cell_type": "code",
   "execution_count": 80,
   "id": "f0995d6b",
   "metadata": {},
   "outputs": [
    {
     "data": {
      "text/plain": [
       "['Nada', 'Ali']"
      ]
     },
     "execution_count": 80,
     "metadata": {},
     "output_type": "execute_result"
    }
   ],
   "source": [
    "'Nada Ali'.split()"
   ]
  },
  {
   "cell_type": "code",
   "execution_count": 81,
   "id": "39fa60cb",
   "metadata": {},
   "outputs": [
    {
     "data": {
      "text/plain": [
       "['A', 'B', 'C', 'D']"
      ]
     },
     "execution_count": 81,
     "metadata": {},
     "output_type": "execute_result"
    }
   ],
   "source": [
    "'A,B,C,D'.split(',')"
   ]
  },
  {
   "cell_type": "markdown",
   "id": "5e0278a7",
   "metadata": {},
   "source": [
    "Copy and Clone List"
   ]
  },
  {
   "cell_type": "code",
   "execution_count": 85,
   "id": "0981156e",
   "metadata": {},
   "outputs": [
    {
     "name": "stdout",
     "output_type": "stream",
     "text": [
      "A: ['Nada', 20, '15-12-2002']\n",
      "B: ['Nada', 20, '15-12-2002']\n"
     ]
    }
   ],
   "source": [
    "#Copy\n",
    "A = [\"Nada\", 20 ,\"15-12-2002\"]\n",
    "B = A\n",
    "print('A:', A)\n",
    "print('B:', B)"
   ]
  },
  {
   "cell_type": "code",
   "execution_count": 83,
   "id": "83f7f297",
   "metadata": {},
   "outputs": [
    {
     "name": "stdout",
     "output_type": "stream",
     "text": [
      "B[0]: Nada\n",
      "B[0]: IS\n"
     ]
    }
   ],
   "source": [
    "print('B[0]:', B[0])\n",
    "A[0] = \"IS\"\n",
    "print('B[0]:', B[0])"
   ]
  },
  {
   "cell_type": "code",
   "execution_count": 84,
   "id": "80fe4c01",
   "metadata": {},
   "outputs": [
    {
     "data": {
      "text/plain": [
       "['IS', 20, '15-12-2002']"
      ]
     },
     "execution_count": 84,
     "metadata": {},
     "output_type": "execute_result"
    }
   ],
   "source": [
    "# Clone\n",
    "B = A[:]\n",
    "B"
   ]
  }
 ],
 "metadata": {
  "kernelspec": {
   "display_name": "Python 3 (ipykernel)",
   "language": "python",
   "name": "python3"
  },
  "language_info": {
   "codemirror_mode": {
    "name": "ipython",
    "version": 3
   },
   "file_extension": ".py",
   "mimetype": "text/x-python",
   "name": "python",
   "nbconvert_exporter": "python",
   "pygments_lexer": "ipython3",
   "version": "3.9.12"
  }
 },
 "nbformat": 4,
 "nbformat_minor": 5
}
